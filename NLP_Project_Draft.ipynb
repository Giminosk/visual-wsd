{
  "nbformat": 4,
  "nbformat_minor": 0,
  "metadata": {
    "colab": {
      "provenance": [],
      "gpuType": "T4"
    },
    "kernelspec": {
      "name": "python3",
      "display_name": "Python 3"
    },
    "language_info": {
      "name": "python"
    },
    "accelerator": "GPU"
  },
  "cells": [
    {
      "cell_type": "code",
      "source": [
        "'''\n",
        "    visual wsd\n",
        "'''\n",
        "# !gdown https://drive.google.com/u/0/uc?id=1byX4wpe1UjyCVyYrT04sW17NnycKAK7N&export=download\n",
        "# !unzip ./semeval-2023-task-1-V-WSD-train-v1.zip\n",
        "# !rm ./semeval-2023-task-1-V-WSD-train-v1.zip"
      ],
      "metadata": {
        "id": "8Hiwp4YKiFCi"
      },
      "execution_count": null,
      "outputs": []
    },
    {
      "cell_type": "code",
      "source": [
        "# !mkdir ./dataset\n",
        "# !mv ./semeval-2023-task-1-V-WSD-train-v1/train_v1 ./dataset/train\n",
        "# !mv ./dataset/train/train_images_v1 ./dataset/train/images\n",
        "# !mv ./dataset/train/train.data.v1.txt ./dataset/train/train_data.txt\n",
        "# !mv ./dataset/train/train.gold.v1.txt ./dataset/train/gold_data.txt"
      ],
      "metadata": {
        "id": "zhA2dxBZtSyy"
      },
      "execution_count": null,
      "outputs": []
    },
    {
      "cell_type": "code",
      "source": [
        "# def parse_gold_to_csv(data_path, gold_path, result_path):    \n",
        "#     with open(data_path, 'r') as f:\n",
        "#         data_lines = f.readlines()\n",
        "\n",
        "#     with open(gold_path, 'r') as g:\n",
        "#         gold_lines = g.readlines()\n",
        "\n",
        "#     image_paths = []\n",
        "#     targets = []\n",
        "\n",
        "#     for i, line in enumerate(data_lines):\n",
        "#         words = line.strip().split('\\t')\n",
        "#         target = words[1]\n",
        "#         image_path = words[2:]\n",
        "#         correct_image_path = gold_lines[i].strip()\n",
        "#         image_path = [path for path in image_path if path == correct_image_path]\n",
        "#         image_paths.extend(image_path)\n",
        "#         targets.extend([target] * len(image_path))\n",
        "\n",
        "#     df = pd.DataFrame({'image_path': image_paths, 'target': targets})\n",
        "\n",
        "#     df.to_csv(result_path, index=False)"
      ],
      "metadata": {
        "id": "M_JW3KF2qvgB"
      },
      "execution_count": null,
      "outputs": []
    },
    {
      "cell_type": "code",
      "source": [
        "# parse_gold_to_csv(\n",
        "#     data_path = './dataset/train/train_data.txt', \n",
        "#     gold_path = './dataset/train/gold_data.txt', \n",
        "#     result_path = './dataset/train/combined_gold.csv'\n",
        "# )"
      ],
      "metadata": {
        "id": "eKbAskffrfdC"
      },
      "execution_count": null,
      "outputs": []
    },
    {
      "cell_type": "code",
      "source": [],
      "metadata": {
        "id": "KQ_zK45tsRru"
      },
      "execution_count": null,
      "outputs": []
    },
    {
      "cell_type": "code",
      "source": [],
      "metadata": {
        "id": "c_n3roRnfdHs"
      },
      "execution_count": null,
      "outputs": []
    },
    {
      "cell_type": "code",
      "source": [],
      "metadata": {
        "id": "Da0n0v8BfdKH"
      },
      "execution_count": null,
      "outputs": []
    },
    {
      "cell_type": "code",
      "source": [],
      "metadata": {
        "id": "_bXg1piMfdMQ"
      },
      "execution_count": null,
      "outputs": []
    },
    {
      "cell_type": "code",
      "source": [],
      "metadata": {
        "id": "d5TpVBIAfdOy"
      },
      "execution_count": null,
      "outputs": []
    },
    {
      "cell_type": "code",
      "source": [],
      "metadata": {
        "id": "2koxAeHufdQ4"
      },
      "execution_count": null,
      "outputs": []
    },
    {
      "cell_type": "code",
      "source": [],
      "metadata": {
        "id": "XmzCJw6efdS4"
      },
      "execution_count": null,
      "outputs": []
    },
    {
      "cell_type": "code",
      "source": [],
      "metadata": {
        "id": "8P0T0qGefdU3"
      },
      "execution_count": null,
      "outputs": []
    },
    {
      "cell_type": "code",
      "source": [
        "'''\n",
        "1) Training:\n",
        "    a. Collect pairs of images and their corresponding text descriptions.\n",
        "    b. Convert the text descriptions to embeddings.\n",
        "    c. Train the model to generate similar embeddings for similar images and text descriptions.\n",
        "    d. During training, pass both the images and embeddings to the model.\n",
        "\n",
        "2) Embedding Generation:\n",
        "    a. After training, utilize the trained model to generate embeddings for all images in the gallery.\n",
        "    b. Pass each image through the model and save the resulting embedding.\n",
        "    c. Exclude the text descriptions since only image embeddings are required in this step.\n",
        "    d. Any images outside dataset can be used\n",
        "\n",
        "3) Query Processing:\n",
        "    a. Convert a text query into an embedding using the same method used during training.\n",
        "    b. Compare the query embedding to all the image embeddings in the gallery.\n",
        "    c. Utilize a technique like k-nearest neighbors (k-NN) to find the most similar images.\n",
        "\n",
        "4) Image Retrieval:\n",
        "    a. Retrieve the images that have the most similar embeddings to the query embedding.\n",
        "    b. Return these images as the ones deemed most relevant to the query.\n",
        "'''"
      ],
      "metadata": {
        "id": "g1rv1UwQfdXF",
        "colab": {
          "base_uri": "https://localhost:8080/",
          "height": 158
        },
        "outputId": "a98a04ef-e7d5-4a1d-c52d-e4ee3d7a969e"
      },
      "execution_count": null,
      "outputs": [
        {
          "output_type": "execute_result",
          "data": {
            "text/plain": [
              "'\\n1) Training:\\n    a. Collect pairs of images and their corresponding text descriptions.\\n    b. Convert the text descriptions to embeddings.\\n    c. Train the model to generate similar embeddings for similar images and text descriptions.\\n    d. During training, pass both the images and embeddings to the model.\\n\\n2) Embedding Generation:\\n    a. After training, utilize the trained model to generate embeddings for all images in the gallery.\\n    b. Pass each image through the model and save the resulting embedding.\\n    c. Exclude the text descriptions since only image embeddings are required in this step.\\n    d. Any images outside dataset can be used\\n\\n3) Query Processing:\\n    a. Convert a text query into an embedding using the same method used during training.\\n    b. Compare the query embedding to all the image embeddings in the gallery.\\n    c. Utilize a technique like k-nearest neighbors (k-NN) to find the most similar images.\\n\\n4) Image Retrieval:\\n    a. Retrieve the images that have the most similar embeddings to the query embedding.\\n    b. Return these images as the ones deemed most relevant to the query.\\n'"
            ],
            "application/vnd.google.colaboratory.intrinsic+json": {
              "type": "string"
            }
          },
          "metadata": {},
          "execution_count": 5
        }
      ]
    },
    {
      "cell_type": "code",
      "source": [
        "!pip install -q kaggle\n",
        "from google.colab import files \n",
        "files.upload()  #  kaggle api token"
      ],
      "metadata": {
        "colab": {
          "base_uri": "https://localhost:8080/",
          "height": 92
        },
        "id": "zFSHxIoNfdZm",
        "outputId": "112000e1-4dd1-465f-9b9c-0783ae8d7a6b"
      },
      "execution_count": null,
      "outputs": [
        {
          "output_type": "display_data",
          "data": {
            "text/plain": [
              "<IPython.core.display.HTML object>"
            ],
            "text/html": [
              "\n",
              "     <input type=\"file\" id=\"files-572d5705-2683-4bd5-89fd-38c08ef6ef2b\" name=\"files[]\" multiple disabled\n",
              "        style=\"border:none\" />\n",
              "     <output id=\"result-572d5705-2683-4bd5-89fd-38c08ef6ef2b\">\n",
              "      Upload widget is only available when the cell has been executed in the\n",
              "      current browser session. Please rerun this cell to enable.\n",
              "      </output>\n",
              "      <script>// Copyright 2017 Google LLC\n",
              "//\n",
              "// Licensed under the Apache License, Version 2.0 (the \"License\");\n",
              "// you may not use this file except in compliance with the License.\n",
              "// You may obtain a copy of the License at\n",
              "//\n",
              "//      http://www.apache.org/licenses/LICENSE-2.0\n",
              "//\n",
              "// Unless required by applicable law or agreed to in writing, software\n",
              "// distributed under the License is distributed on an \"AS IS\" BASIS,\n",
              "// WITHOUT WARRANTIES OR CONDITIONS OF ANY KIND, either express or implied.\n",
              "// See the License for the specific language governing permissions and\n",
              "// limitations under the License.\n",
              "\n",
              "/**\n",
              " * @fileoverview Helpers for google.colab Python module.\n",
              " */\n",
              "(function(scope) {\n",
              "function span(text, styleAttributes = {}) {\n",
              "  const element = document.createElement('span');\n",
              "  element.textContent = text;\n",
              "  for (const key of Object.keys(styleAttributes)) {\n",
              "    element.style[key] = styleAttributes[key];\n",
              "  }\n",
              "  return element;\n",
              "}\n",
              "\n",
              "// Max number of bytes which will be uploaded at a time.\n",
              "const MAX_PAYLOAD_SIZE = 100 * 1024;\n",
              "\n",
              "function _uploadFiles(inputId, outputId) {\n",
              "  const steps = uploadFilesStep(inputId, outputId);\n",
              "  const outputElement = document.getElementById(outputId);\n",
              "  // Cache steps on the outputElement to make it available for the next call\n",
              "  // to uploadFilesContinue from Python.\n",
              "  outputElement.steps = steps;\n",
              "\n",
              "  return _uploadFilesContinue(outputId);\n",
              "}\n",
              "\n",
              "// This is roughly an async generator (not supported in the browser yet),\n",
              "// where there are multiple asynchronous steps and the Python side is going\n",
              "// to poll for completion of each step.\n",
              "// This uses a Promise to block the python side on completion of each step,\n",
              "// then passes the result of the previous step as the input to the next step.\n",
              "function _uploadFilesContinue(outputId) {\n",
              "  const outputElement = document.getElementById(outputId);\n",
              "  const steps = outputElement.steps;\n",
              "\n",
              "  const next = steps.next(outputElement.lastPromiseValue);\n",
              "  return Promise.resolve(next.value.promise).then((value) => {\n",
              "    // Cache the last promise value to make it available to the next\n",
              "    // step of the generator.\n",
              "    outputElement.lastPromiseValue = value;\n",
              "    return next.value.response;\n",
              "  });\n",
              "}\n",
              "\n",
              "/**\n",
              " * Generator function which is called between each async step of the upload\n",
              " * process.\n",
              " * @param {string} inputId Element ID of the input file picker element.\n",
              " * @param {string} outputId Element ID of the output display.\n",
              " * @return {!Iterable<!Object>} Iterable of next steps.\n",
              " */\n",
              "function* uploadFilesStep(inputId, outputId) {\n",
              "  const inputElement = document.getElementById(inputId);\n",
              "  inputElement.disabled = false;\n",
              "\n",
              "  const outputElement = document.getElementById(outputId);\n",
              "  outputElement.innerHTML = '';\n",
              "\n",
              "  const pickedPromise = new Promise((resolve) => {\n",
              "    inputElement.addEventListener('change', (e) => {\n",
              "      resolve(e.target.files);\n",
              "    });\n",
              "  });\n",
              "\n",
              "  const cancel = document.createElement('button');\n",
              "  inputElement.parentElement.appendChild(cancel);\n",
              "  cancel.textContent = 'Cancel upload';\n",
              "  const cancelPromise = new Promise((resolve) => {\n",
              "    cancel.onclick = () => {\n",
              "      resolve(null);\n",
              "    };\n",
              "  });\n",
              "\n",
              "  // Wait for the user to pick the files.\n",
              "  const files = yield {\n",
              "    promise: Promise.race([pickedPromise, cancelPromise]),\n",
              "    response: {\n",
              "      action: 'starting',\n",
              "    }\n",
              "  };\n",
              "\n",
              "  cancel.remove();\n",
              "\n",
              "  // Disable the input element since further picks are not allowed.\n",
              "  inputElement.disabled = true;\n",
              "\n",
              "  if (!files) {\n",
              "    return {\n",
              "      response: {\n",
              "        action: 'complete',\n",
              "      }\n",
              "    };\n",
              "  }\n",
              "\n",
              "  for (const file of files) {\n",
              "    const li = document.createElement('li');\n",
              "    li.append(span(file.name, {fontWeight: 'bold'}));\n",
              "    li.append(span(\n",
              "        `(${file.type || 'n/a'}) - ${file.size} bytes, ` +\n",
              "        `last modified: ${\n",
              "            file.lastModifiedDate ? file.lastModifiedDate.toLocaleDateString() :\n",
              "                                    'n/a'} - `));\n",
              "    const percent = span('0% done');\n",
              "    li.appendChild(percent);\n",
              "\n",
              "    outputElement.appendChild(li);\n",
              "\n",
              "    const fileDataPromise = new Promise((resolve) => {\n",
              "      const reader = new FileReader();\n",
              "      reader.onload = (e) => {\n",
              "        resolve(e.target.result);\n",
              "      };\n",
              "      reader.readAsArrayBuffer(file);\n",
              "    });\n",
              "    // Wait for the data to be ready.\n",
              "    let fileData = yield {\n",
              "      promise: fileDataPromise,\n",
              "      response: {\n",
              "        action: 'continue',\n",
              "      }\n",
              "    };\n",
              "\n",
              "    // Use a chunked sending to avoid message size limits. See b/62115660.\n",
              "    let position = 0;\n",
              "    do {\n",
              "      const length = Math.min(fileData.byteLength - position, MAX_PAYLOAD_SIZE);\n",
              "      const chunk = new Uint8Array(fileData, position, length);\n",
              "      position += length;\n",
              "\n",
              "      const base64 = btoa(String.fromCharCode.apply(null, chunk));\n",
              "      yield {\n",
              "        response: {\n",
              "          action: 'append',\n",
              "          file: file.name,\n",
              "          data: base64,\n",
              "        },\n",
              "      };\n",
              "\n",
              "      let percentDone = fileData.byteLength === 0 ?\n",
              "          100 :\n",
              "          Math.round((position / fileData.byteLength) * 100);\n",
              "      percent.textContent = `${percentDone}% done`;\n",
              "\n",
              "    } while (position < fileData.byteLength);\n",
              "  }\n",
              "\n",
              "  // All done.\n",
              "  yield {\n",
              "    response: {\n",
              "      action: 'complete',\n",
              "    }\n",
              "  };\n",
              "}\n",
              "\n",
              "scope.google = scope.google || {};\n",
              "scope.google.colab = scope.google.colab || {};\n",
              "scope.google.colab._files = {\n",
              "  _uploadFiles,\n",
              "  _uploadFilesContinue,\n",
              "};\n",
              "})(self);\n",
              "</script> "
            ]
          },
          "metadata": {}
        },
        {
          "output_type": "stream",
          "name": "stdout",
          "text": [
            "Saving kaggle.json to kaggle.json\n"
          ]
        },
        {
          "output_type": "execute_result",
          "data": {
            "text/plain": [
              "{'kaggle.json': b'{\"username\":\"uladzimirivashka\",\"key\":\"cce170e65aa69b067fafbf1098ce8556\"}'}"
            ]
          },
          "metadata": {},
          "execution_count": 6
        }
      ]
    },
    {
      "cell_type": "code",
      "source": [
        "!mkdir ~/.kaggle \n",
        "!cp kaggle.json ~/.kaggle/\n",
        "!chmod 600 ~/.kaggle/kaggle.json"
      ],
      "metadata": {
        "id": "Wk5nvUU1f4-b"
      },
      "execution_count": null,
      "outputs": []
    },
    {
      "cell_type": "code",
      "source": [
        "!kaggle datasets download -d adityajn105/flickr8k"
      ],
      "metadata": {
        "colab": {
          "base_uri": "https://localhost:8080/"
        },
        "id": "Ib9cXS4vgMvd",
        "outputId": "c712d396-deda-4f09-c6c4-9e4429d79706"
      },
      "execution_count": null,
      "outputs": [
        {
          "output_type": "stream",
          "name": "stdout",
          "text": [
            "Downloading flickr8k.zip to /content\n",
            " 99% 1.02G/1.04G [00:06<00:00, 199MB/s]\n",
            "100% 1.04G/1.04G [00:06<00:00, 163MB/s]\n"
          ]
        }
      ]
    },
    {
      "cell_type": "code",
      "source": [
        "%%capture\n",
        "!unzip ./flickr8k.zip\n",
        "!rm flickr8k.zip\n",
        "!mkdir ./data/\n",
        "!mv ./Images ./data/images\n",
        "!mv ./captions.txt ./data/captions.txt\n",
        "!mkdir ./data/embeddings\n",
        "!mkdir ./data/checkpoints/"
      ],
      "metadata": {
        "id": "ZGc54eFXgqYv"
      },
      "execution_count": null,
      "outputs": []
    },
    {
      "cell_type": "code",
      "source": [
        "%%capture\n",
        "!pip install transformers\n",
        "!pip install rouge\n",
        "!pip install pycocoevalcap\n",
        "!pip install ftfy regex tqdm\n",
        "!pip install git+https://github.com/openai/CLIP.git"
      ],
      "metadata": {
        "id": "gHw37sxJfdcQ"
      },
      "execution_count": null,
      "outputs": []
    },
    {
      "cell_type": "code",
      "source": [
        "import pandas as pd\n",
        "import numpy as np\n",
        "import albumentations as A\n",
        "from albumentations.pytorch import ToTensorV2\n",
        "import cv2\n",
        "from PIL import Image, ImageFile\n",
        "ImageFile.LOAD_TRUNCATED_IMAGES = True\n",
        "import os\n",
        "from tqdm import tqdm\n",
        "import random\n",
        "import clip\n",
        "\n",
        "import warnings\n",
        "warnings.filterwarnings(\"ignore\")\n",
        "\n",
        "import torch\n",
        "from torchvision import transforms\n",
        "from torch.utils.data import Dataset, DataLoader, random_split\n",
        "from torch.nn import functional as F\n",
        "from torch.nn.utils.rnn import pad_sequence\n",
        "from torch.optim.lr_scheduler import CosineAnnealingLR\n",
        "from torch.utils.tensorboard import SummaryWriter\n",
        "from nltk.translate.bleu_score import sentence_bleu\n",
        "from rouge import Rouge\n",
        "from pycocoevalcap.cider.cider import Cider\n",
        "from pycocoevalcap.meteor.meteor import Meteor\n",
        "from pycocoevalcap.spice.spice import Spice\n",
        "from transformers import GPT2Model, GPT2Tokenizer\n",
        "from transformers import CLIPProcessor, CLIPModel\n",
        "from transformers import AdamW\n",
        "\n",
        "DEVICE = torch.device(\"cuda\" if torch.cuda.is_available() else \"cpu\")"
      ],
      "metadata": {
        "id": "TfJH0N7Kfdei"
      },
      "execution_count": null,
      "outputs": []
    },
    {
      "cell_type": "code",
      "source": [
        "def txt_to_csv(txt_file, csv_file):\n",
        "    data = []\n",
        "    with open(txt_file, 'r') as file:\n",
        "        lines = file.readlines()\n",
        "        for line in lines:\n",
        "            line = line.strip().split(',')\n",
        "            image = line[0]\n",
        "            caption = ', '.join(line[1:])\n",
        "            data.append({'Image': image, 'Caption': caption})\n",
        "\n",
        "    df = pd.DataFrame(data)\n",
        "    df.to_csv(csv_file, index=False, header=False)\n",
        "\n",
        "\n",
        "txt_to_csv(\n",
        "    txt_file = './data/captions.txt', \n",
        "    csv_file = './data/captions.csv'\n",
        ")"
      ],
      "metadata": {
        "id": "rblWF8F-iCEi"
      },
      "execution_count": null,
      "outputs": []
    },
    {
      "cell_type": "code",
      "source": [
        "'''\n",
        "    Precalculate gpt2 embedding\n",
        "'''\n",
        "\n",
        "# def generate_and_save_embeddings(csv_file_path):\n",
        "#     dataframe = pd.read_csv(csv_file_path)\n",
        "\n",
        "#     tokenizer = GPT2Tokenizer.from_pretrained('gpt2')\n",
        "#     tokenizer.pad_token = tokenizer.eos_token\n",
        "#     model = GPT2Model.from_pretrained('gpt2').to(DEVICE)\n",
        "\n",
        "#     for index, row in tqdm(dataframe.iterrows()):\n",
        "#         target = row['caption']\n",
        "#         image_name = row['image']\n",
        "\n",
        "#         inputs = tokenizer(target, return_tensors='pt', padding='max_length', truncation=True, max_length=512).to(DEVICE)\n",
        "#         with torch.no_grad():\n",
        "#             outputs = model(**inputs)\n",
        "#         embeddings = outputs.last_hidden_state\n",
        "#         embeddings = torch.nn.functional.pad(embeddings, pad=(0, 0, 0, 512 - embeddings.size(1)))\n",
        "#         embeddings = embeddings.to('cpu')\n",
        "\n",
        "#         torch.save(embeddings, f'./data/embeddings/{image_name}_embedding.pt')\n",
        "\n",
        "\n",
        "# generate_and_save_embeddings('./data/captions.csv')"
      ],
      "metadata": {
        "colab": {
          "base_uri": "https://localhost:8080/",
          "height": 35
        },
        "id": "Xyeq2-g9qqJq",
        "outputId": "bd25e724-d8f4-4888-9b67-0e826d8053cb"
      },
      "execution_count": null,
      "outputs": [
        {
          "output_type": "execute_result",
          "data": {
            "text/plain": [
              "'\\n    Precalculate gpt2 embedding\\n'"
            ],
            "application/vnd.google.colaboratory.intrinsic+json": {
              "type": "string"
            }
          },
          "metadata": {},
          "execution_count": 13
        }
      ]
    },
    {
      "cell_type": "code",
      "source": [
        "'''\n",
        "    Precalculate clip embeddings\n",
        "\n",
        "    ! For training clip model no need for embeddings, input_ids are used, no need to precalculate\n",
        "'''\n",
        "\n",
        "# def generate_and_save_clip_embeddings(csv_file, embedding_dir):\n",
        "\n",
        "#     model = CLIPModel.from_pretrained(\"openai/clip-vit-base-patch32\")\n",
        "#     processor = CLIPProcessor.from_pretrained(\"openai/clip-vit-base-patch32\")\n",
        "\n",
        "#     device = torch.device(\"cuda\" if torch.cuda.is_available() else \"cpu\")\n",
        "#     model = model.to(DEVICE)\n",
        "\n",
        "#     dataframe = pd.read_csv(csv_file)\n",
        "\n",
        "#     for idx, row in tqdm(dataframe.iterrows()):\n",
        "#         target = row['caption']\n",
        "\n",
        "#         inputs = processor(text=target, return_tensors=\"pt\", padding=True, truncation=True)\n",
        "#         inputs = {name: tensor.to(DEVICE) for name, tensor in inputs.items()}\n",
        "#         with torch.no_grad():\n",
        "#             embeddings = model.get_text_features(**inputs)\n",
        "\n",
        "#         image_name = row['image'].split('.')[0]\n",
        "#         torch.save(embeddings.cpu(), os.path.join(embedding_dir, f\"{image_name}_embedding.pt\"))\n",
        "\n",
        "\n",
        "# generate_and_save_clip_embeddings('./data/captions.csv', './data/embeddings')"
      ],
      "metadata": {
        "colab": {
          "base_uri": "https://localhost:8080/",
          "height": 53
        },
        "id": "Ddz8XUiU-2-L",
        "outputId": "66d746eb-b6ac-4977-c85f-6ed75b21a459"
      },
      "execution_count": null,
      "outputs": [
        {
          "output_type": "execute_result",
          "data": {
            "text/plain": [
              "'\\n    Precalculate clip embeddings\\n\\n    ! For training clip model no need for embeddings, input_ids are used, no need to precalculate\\n'"
            ],
            "application/vnd.google.colaboratory.intrinsic+json": {
              "type": "string"
            }
          },
          "metadata": {},
          "execution_count": 14
        }
      ]
    },
    {
      "cell_type": "code",
      "source": [
        "class MyDataset(Dataset):\n",
        "    def __init__(self, csv_file, image_dir, transform=None):\n",
        "        self.dataframe = pd.read_csv(csv_file)\n",
        "        self.image_dir = image_dir\n",
        "        self.transform = transform\n",
        "\n",
        "        _, self.preprocess = clip.load(\"ViT-B/32\", device=DEVICE, jit=False)\n",
        "\n",
        "\n",
        "    def __len__(self):\n",
        "        return len(self.dataframe)\n",
        "\n",
        "    def __getitem__(self, idx):\n",
        "        if torch.is_tensor(idx):\n",
        "            idx = idx.tolist()\n",
        "\n",
        "        img_name = os.path.join(self.image_dir, self.dataframe.iloc[idx, 0])\n",
        "        image = Image.open(img_name).convert('RGB')\n",
        "        image = np.array(image)\n",
        "\n",
        "        if self.transform:\n",
        "            transformed = self.transform(image=image)\n",
        "            image = transformed['image']\n",
        "\n",
        "        image = image.permute(1, 2, 0).numpy()\n",
        "        image = image.astype(np.uint8)\n",
        "        image = Image.fromarray(image)\n",
        "        image = self.preprocess(image).float()\n",
        "\n",
        "        target = self.dataframe.iloc[idx, 1]\n",
        "        input_ids = clip.tokenize(target)\n",
        "\n",
        "        return image, input_ids\n",
        "\n",
        "    # now not used\n",
        "    @staticmethod\n",
        "    def collate_fn(batch):\n",
        "        images, input_ids = zip(*batch)\n",
        "        images = torch.stack(images)\n",
        "        input_ids = pad_sequence(input_ids, batch_first=True, padding_value=0)\n",
        "        return images, input_ids"
      ],
      "metadata": {
        "id": "dobQR29r7DoQ"
      },
      "execution_count": null,
      "outputs": []
    },
    {
      "cell_type": "code",
      "source": [
        "def get_mean_std(loader):\n",
        "    channels_sum, channels_sqrd_sum, num_batches = 0, 0, 0\n",
        "\n",
        "    for data, _ in tqdm(loader):\n",
        "        if data is None:\n",
        "            continue\n",
        "        try:\n",
        "            channels_sum += torch.mean(data, dim=[0, 2, 3])\n",
        "            channels_sqrd_sum += torch.mean(data**2, dim=[0, 2, 3])\n",
        "            num_batches += 1\n",
        "        except TypeError:\n",
        "            continue\n",
        "\n",
        "    mean = channels_sum / num_batches\n",
        "    std = (channels_sqrd_sum / num_batches - mean**2) ** 0.5\n",
        "\n",
        "    return mean, std\n",
        "\n",
        "\n",
        "# tmp_transform = A.Compose([\n",
        "#     A.Resize(224, 224),\n",
        "#     ToTensorV2()  \n",
        "# ])\n",
        "\n",
        "# dataset = MyDataset(csv_file='./data/captions.csv', image_dir='./data/images/', embeddings_dir='./data/embeddings/', transform=tmp_transform)\n",
        "# dataloader = DataLoader(dataset, batch_size=64, shuffle=True, num_workers=0)\n",
        "\n",
        "# mean, std = get_mean_std(dataloader)\n",
        "# print(mean)\n",
        "# print(std)\n",
        "\n",
        "# [116.6669, 113.6163, 102.8635]   for flickr8k\n",
        "# [70.0214, 68.1754, 71.8770]"
      ],
      "metadata": {
        "id": "Dg_Cnk2uAKue"
      },
      "execution_count": null,
      "outputs": []
    },
    {
      "cell_type": "code",
      "source": [
        "MEAN = [116.6669, 113.6163, 102.8635]\n",
        "STD = [70.0214, 68.1754, 71.8770]\n",
        "\n",
        "\n",
        "transform = A.Compose([\n",
        "\n",
        "    A.Resize(224, 224),\n",
        "    A.HorizontalFlip(p=0.5),\n",
        "    A.RandomRotate90(p=0.5),\n",
        "    A.Transpose(p=0.5),\n",
        "    A.ShiftScaleRotate(shift_limit=0.0625, scale_limit=0.2, rotate_limit=15, p=0.9, border_mode=cv2.BORDER_REFLECT),\n",
        "\n",
        "    A.OneOf([\n",
        "        A.IAAAdditiveGaussianNoise(),\n",
        "        A.GaussNoise()\n",
        "    ], p=0.2),\n",
        "\n",
        "    A.OneOf([\n",
        "        A.MotionBlur(p=0.2),\n",
        "        A.MedianBlur(blur_limit=3, p=0.1),\n",
        "        A.Blur(blur_limit=3, p=0.1)\n",
        "    ], p=0.2),\n",
        "\n",
        "    A.OneOf([\n",
        "        A.CLAHE(clip_limit=2),\n",
        "        A.IAASharpen(),\n",
        "        A.IAAEmboss(),\n",
        "        A.RandomBrightnessContrast()           \n",
        "    ], p=0.3),\n",
        "\n",
        "    A.HueSaturationValue(p=0.3),\n",
        "    A.Normalize(mean=MEAN, std=STD),\n",
        "    ToTensorV2()\n",
        "\n",
        "])"
      ],
      "metadata": {
        "id": "F_lSwmG9x36g"
      },
      "execution_count": null,
      "outputs": []
    },
    {
      "cell_type": "code",
      "source": [
        "def create_data_loaders(dataset, batch_size=64, val_split=0.2):\n",
        "\n",
        "    train_size = int((1 - val_split) * len(dataset))\n",
        "    val_size = len(dataset) - train_size\n",
        "\n",
        "    train_dataset, val_dataset = random_split(dataset, [train_size, val_size])\n",
        "\n",
        "    train_loader = DataLoader(\n",
        "        train_dataset, \n",
        "        batch_size = batch_size, \n",
        "        shuffle = True,\n",
        "        num_workers = 0,\n",
        "        # collate_fn = MyDataset.collate_fn\n",
        "    )\n",
        "    \n",
        "    val_loader = DataLoader(\n",
        "        val_dataset, \n",
        "        batch_size = batch_size,\n",
        "        shuffle = False,\n",
        "        num_workers = 0,\n",
        "        # collate_fn = MyDataset.collate_fn\n",
        "    )\n",
        "\n",
        "    return train_loader, val_loader"
      ],
      "metadata": {
        "id": "ntMid4lsUmBy"
      },
      "execution_count": null,
      "outputs": []
    },
    {
      "cell_type": "code",
      "source": [
        "def seed_everything(seed=1):\n",
        "    random.seed(seed)\n",
        "    os.environ['PYTHONHASHSEED'] = str(seed)\n",
        "    np.random.seed(seed)\n",
        "    torch.manual_seed(seed)\n",
        "    random.seed(seed)\n",
        "    torch.cuda.manual_seed(seed)\n",
        "    torch.backends.cudnn.deterministic = True\n",
        "    torch.backends.cudnn.benchmark = True\n",
        "\n",
        "\n",
        "seed_everything(seed=1)"
      ],
      "metadata": {
        "id": "eYf2fl7T3DGT"
      },
      "execution_count": null,
      "outputs": []
    },
    {
      "cell_type": "code",
      "source": [
        "def save_checkpoint(model, optimizer, epoch, loss, filepath):\n",
        "    checkpoint = {\n",
        "        'model_state_dict': model.state_dict(),\n",
        "        'optimizer_state_dict': optimizer.state_dict(),\n",
        "        'epoch': epoch,\n",
        "        'loss': loss\n",
        "    }\n",
        "    torch.save(checkpoint, filepath)\n",
        "\n",
        "\n",
        "\n",
        "def load_checkpoint(model, optimizer, filepath):\n",
        "    checkpoint = torch.load(filepath)\n",
        "    model.load_state_dict(checkpoint['model_state_dict'])\n",
        "    optimizer.load_state_dict(checkpoint['optimizer_state_dict'])\n",
        "    epoch = checkpoint['epoch']\n",
        "    loss = checkpoint['loss']\n",
        "    return model, optimizer, epoch, loss"
      ],
      "metadata": {
        "id": "nuphgOAV55G4"
      },
      "execution_count": null,
      "outputs": []
    },
    {
      "cell_type": "code",
      "source": [
        "'''\n",
        "    we cannot calculate metrics while training, because model produces embeddings in shared space, not final predicions,\n",
        "    i.e we dont have ground truth neither predictions\n",
        "'''\n",
        "# def calculate_metrics(predictions, ground_truth):\n",
        "#     predictions = predictions.tolist()\n",
        "#     ground_truth = ground_truth.tolist()\n",
        "    \n",
        "#     rouge = Rouge()\n",
        "#     cider = Cider()\n",
        "#     meteor = Meteor()\n",
        "#     spice = Spice()\n",
        "\n",
        "#     bleu_scores = [sentence_bleu([truth], pred) for pred, truth in zip(predictions, ground_truth)]\n",
        "#     bleu = sum(bleu_scores) / len(bleu_scores)\n",
        "    \n",
        "#     rouge_scores = [rouge.get_scores(pred, truth)[0]['rouge-l']['f'] for pred, truth in zip(predictions, ground_truth)]\n",
        "\n",
        "#     rouge = sum(rouge_scores) / len(rouge_scores)\n",
        "\n",
        "#     cider_score, _ = cider.compute_score({i: [truth] for i, truth in enumerate(ground_truth)}, {i: [pred] for i, pred in enumerate(predictions)})\n",
        "\n",
        "#     meteor_score, _ = meteor.compute_score({i: [truth] for i, truth in enumerate(ground_truth)}, {i: [pred] for i, pred in enumerate(predictions)})\n",
        "\n",
        "#     spice_score, _ = spice.compute_score({i: [truth] for i, truth in enumerate(ground_truth)}, {i: [pred] for i, pred in enumerate(predictions)})\n",
        "\n",
        "#     return torch.tensor([bleu, rouge, cider_score, meteor_score, spice_score])"
      ],
      "metadata": {
        "id": "HSqyaOe53avG"
      },
      "execution_count": null,
      "outputs": []
    },
    {
      "cell_type": "code",
      "source": [
        "def train_step(model, images, input_ids, optimizer):  \n",
        "    optimizer.zero_grad()\n",
        "    image_features, text_features = model(images, input_ids)\n",
        "\n",
        "    logits = image_features @ text_features.t()\n",
        "\n",
        "    labels = torch.arange(len(images)).to(DEVICE)\n",
        "    \n",
        "    loss = F.cross_entropy(logits, labels) + F.cross_entropy(logits.t(), labels)\n",
        "\n",
        "    loss.backward()\n",
        "    optimizer.step()\n",
        "\n",
        "    return loss.item()\n",
        "\n",
        "\n",
        "\n",
        "def val_step(model, images, input_ids):\n",
        "    model.eval()\n",
        "\n",
        "    with torch.no_grad():\n",
        "        image_features, text_features = model(images, input_ids)\n",
        "\n",
        "        logits = image_features @ text_features.t()\n",
        "        print(image_features.shape, text_features.shape, logits.shape)\n",
        "\n",
        "        labels = torch.arange(len(images)).to(DEVICE)\n",
        "        loss = F.cross_entropy(logits, labels) + F.cross_entropy(logits.t(), labels)\n",
        "        \n",
        "    model.train()\n",
        "    return loss.item(), logits\n",
        "\n",
        "\n",
        "\n",
        "def train(model, train_loader, val_loader, num_epochs, writer):\n",
        "\n",
        "    model = model.to(DEVICE)\n",
        "    model.train()\n",
        "    optimizer = AdamW(model.parameters())\n",
        "    scheduler = CosineAnnealingLR(optimizer, len(train_loader)*num_epochs)\n",
        "\n",
        "    for epoch in range(num_epochs):\n",
        "        \n",
        "        train_loss = 0.0\n",
        "        val_loss = 0.0\n",
        "\n",
        "        for images, input_ids in tqdm(train_loader, leave=False):\n",
        "            images = images.to(DEVICE)\n",
        "            input_ids = input_ids.squeeze(1).to(DEVICE)\n",
        "            loss = train_step(model, images, input_ids, optimizer)\n",
        "            train_loss += loss\n",
        "\n",
        "        writer.add_scalar('Loss/train', train_loss, epoch)\n",
        "\n",
        "        if scheduler:\n",
        "            scheduler.step()\n",
        "\n",
        "        # metrics = torch.tensor([0, 0, 0, 0, 0])\n",
        "        for images, input_ids in tqdm(val_loader, leave=False):\n",
        "            images = images.to(DEVICE)\n",
        "            input_ids = input_ids.squeeze(1).to(DEVICE)\n",
        "            loss, predictions = val_step(model, images, input_ids)\n",
        "            val_loss += loss\n",
        "            # metrics += calculate_metrics(predictions, input_ids)\n",
        "\n",
        "        # metrics /= len(val_loader)\n",
        "        # metrics = dict(zip(['Bleu', 'Rouge', 'Cider', 'Meteor', 'Spice'], metrics))\n",
        "        writer.add_scalar('Loss/train', val_loss, epoch)\n",
        "\n",
        "        for metric, value in metrics.items():\n",
        "            writer.add_scalar(f'Metrics/{metric}', value, epoch)\n",
        "\n",
        "        print(f\"==> Epoch {epoch+1}/{num_epochs}\")\n",
        "        print(f\"\\tTrain Loss: {train_loss / len(train_loader)}\")\n",
        "        print(f\"\\tVal Loss: {val_loss / len(val_loader)}\")\n",
        "        # print(f\"\\tMetrics: {metrics}\")\n",
        "\n",
        "        if epoch % 5 == 0:\n",
        "            save_checkpoint(model, optimizer, epoch, None, f'./data/checkpoints/model_epoch_{epoch}.pt')"
      ],
      "metadata": {
        "id": "uUAHDxJH_uP_"
      },
      "execution_count": null,
      "outputs": []
    },
    {
      "cell_type": "code",
      "source": [
        "dataset = MyDataset(\n",
        "    csv_file='./data/captions.csv', \n",
        "    image_dir='./data/images/', \n",
        "    transform=transform\n",
        ")\n",
        "\n",
        "train_loader, val_loader = create_data_loaders(dataset)\n",
        "\n",
        "model, _ = clip.load(\"ViT-B/32\", device=DEVICE, jit=False)\n",
        "\n",
        "writer = SummaryWriter()"
      ],
      "metadata": {
        "id": "mPNt2VtNFu7m",
        "colab": {
          "base_uri": "https://localhost:8080/"
        },
        "outputId": "8fd43bbb-2ea2-43e8-91ed-00a5dcabc49d"
      },
      "execution_count": null,
      "outputs": [
        {
          "output_type": "stream",
          "name": "stderr",
          "text": [
            "100%|███████████████████████████████████████| 338M/338M [00:03<00:00, 98.3MiB/s]\n"
          ]
        }
      ]
    },
    {
      "cell_type": "code",
      "source": [
        "train(model, train_loader, val_loader, 10, writer)"
      ],
      "metadata": {
        "colab": {
          "base_uri": "https://localhost:8080/",
          "height": 330
        },
        "id": "7kO0aU6pH8Rh",
        "outputId": "25f4c054-5410-4422-b7d6-1fbf8958b2c3"
      },
      "execution_count": null,
      "outputs": [
        {
          "output_type": "stream",
          "name": "stderr",
          "text": []
        },
        {
          "output_type": "error",
          "ename": "KeyboardInterrupt",
          "evalue": "ignored",
          "traceback": [
            "\u001b[0;31m---------------------------------------------------------------------------\u001b[0m",
            "\u001b[0;31mKeyboardInterrupt\u001b[0m                         Traceback (most recent call last)",
            "\u001b[0;32m<ipython-input-24-c718fa9c0944>\u001b[0m in \u001b[0;36m<cell line: 1>\u001b[0;34m()\u001b[0m\n\u001b[0;32m----> 1\u001b[0;31m \u001b[0mtrain\u001b[0m\u001b[0;34m(\u001b[0m\u001b[0mmodel\u001b[0m\u001b[0;34m,\u001b[0m \u001b[0mtrain_loader\u001b[0m\u001b[0;34m,\u001b[0m \u001b[0mval_loader\u001b[0m\u001b[0;34m,\u001b[0m \u001b[0;36m10\u001b[0m\u001b[0;34m,\u001b[0m \u001b[0mwriter\u001b[0m\u001b[0;34m)\u001b[0m\u001b[0;34m\u001b[0m\u001b[0;34m\u001b[0m\u001b[0m\n\u001b[0m",
            "\u001b[0;32m<ipython-input-22-92594918f31e>\u001b[0m in \u001b[0;36mtrain\u001b[0;34m(model, train_loader, val_loader, num_epochs, writer)\u001b[0m\n\u001b[1;32m     48\u001b[0m             \u001b[0mimages\u001b[0m \u001b[0;34m=\u001b[0m \u001b[0mimages\u001b[0m\u001b[0;34m.\u001b[0m\u001b[0mto\u001b[0m\u001b[0;34m(\u001b[0m\u001b[0mDEVICE\u001b[0m\u001b[0;34m)\u001b[0m\u001b[0;34m\u001b[0m\u001b[0;34m\u001b[0m\u001b[0m\n\u001b[1;32m     49\u001b[0m             \u001b[0minput_ids\u001b[0m \u001b[0;34m=\u001b[0m \u001b[0minput_ids\u001b[0m\u001b[0;34m.\u001b[0m\u001b[0msqueeze\u001b[0m\u001b[0;34m(\u001b[0m\u001b[0;36m1\u001b[0m\u001b[0;34m)\u001b[0m\u001b[0;34m.\u001b[0m\u001b[0mto\u001b[0m\u001b[0;34m(\u001b[0m\u001b[0mDEVICE\u001b[0m\u001b[0;34m)\u001b[0m\u001b[0;34m\u001b[0m\u001b[0;34m\u001b[0m\u001b[0m\n\u001b[0;32m---> 50\u001b[0;31m             \u001b[0mloss\u001b[0m \u001b[0;34m=\u001b[0m \u001b[0mtrain_step\u001b[0m\u001b[0;34m(\u001b[0m\u001b[0mmodel\u001b[0m\u001b[0;34m,\u001b[0m \u001b[0mimages\u001b[0m\u001b[0;34m,\u001b[0m \u001b[0minput_ids\u001b[0m\u001b[0;34m,\u001b[0m \u001b[0moptimizer\u001b[0m\u001b[0;34m)\u001b[0m\u001b[0;34m\u001b[0m\u001b[0;34m\u001b[0m\u001b[0m\n\u001b[0m\u001b[1;32m     51\u001b[0m             \u001b[0mtrain_loss\u001b[0m \u001b[0;34m+=\u001b[0m \u001b[0mloss\u001b[0m\u001b[0;34m\u001b[0m\u001b[0;34m\u001b[0m\u001b[0m\n\u001b[1;32m     52\u001b[0m \u001b[0;34m\u001b[0m\u001b[0m\n",
            "\u001b[0;32m<ipython-input-22-92594918f31e>\u001b[0m in \u001b[0;36mtrain_step\u001b[0;34m(model, images, input_ids, optimizer)\u001b[0m\n\u001b[1;32m      9\u001b[0m     \u001b[0mloss\u001b[0m \u001b[0;34m=\u001b[0m \u001b[0mF\u001b[0m\u001b[0;34m.\u001b[0m\u001b[0mcross_entropy\u001b[0m\u001b[0;34m(\u001b[0m\u001b[0mlogits\u001b[0m\u001b[0;34m,\u001b[0m \u001b[0mlabels\u001b[0m\u001b[0;34m)\u001b[0m \u001b[0;34m+\u001b[0m \u001b[0mF\u001b[0m\u001b[0;34m.\u001b[0m\u001b[0mcross_entropy\u001b[0m\u001b[0;34m(\u001b[0m\u001b[0mlogits\u001b[0m\u001b[0;34m.\u001b[0m\u001b[0mt\u001b[0m\u001b[0;34m(\u001b[0m\u001b[0;34m)\u001b[0m\u001b[0;34m,\u001b[0m \u001b[0mlabels\u001b[0m\u001b[0;34m)\u001b[0m\u001b[0;34m\u001b[0m\u001b[0;34m\u001b[0m\u001b[0m\n\u001b[1;32m     10\u001b[0m \u001b[0;34m\u001b[0m\u001b[0m\n\u001b[0;32m---> 11\u001b[0;31m     \u001b[0mloss\u001b[0m\u001b[0;34m.\u001b[0m\u001b[0mbackward\u001b[0m\u001b[0;34m(\u001b[0m\u001b[0;34m)\u001b[0m\u001b[0;34m\u001b[0m\u001b[0;34m\u001b[0m\u001b[0m\n\u001b[0m\u001b[1;32m     12\u001b[0m     \u001b[0moptimizer\u001b[0m\u001b[0;34m.\u001b[0m\u001b[0mstep\u001b[0m\u001b[0;34m(\u001b[0m\u001b[0;34m)\u001b[0m\u001b[0;34m\u001b[0m\u001b[0;34m\u001b[0m\u001b[0m\n\u001b[1;32m     13\u001b[0m \u001b[0;34m\u001b[0m\u001b[0m\n",
            "\u001b[0;32m/usr/local/lib/python3.10/dist-packages/torch/_tensor.py\u001b[0m in \u001b[0;36mbackward\u001b[0;34m(self, gradient, retain_graph, create_graph, inputs)\u001b[0m\n\u001b[1;32m    485\u001b[0m                 \u001b[0minputs\u001b[0m\u001b[0;34m=\u001b[0m\u001b[0minputs\u001b[0m\u001b[0;34m,\u001b[0m\u001b[0;34m\u001b[0m\u001b[0;34m\u001b[0m\u001b[0m\n\u001b[1;32m    486\u001b[0m             )\n\u001b[0;32m--> 487\u001b[0;31m         torch.autograd.backward(\n\u001b[0m\u001b[1;32m    488\u001b[0m             \u001b[0mself\u001b[0m\u001b[0;34m,\u001b[0m \u001b[0mgradient\u001b[0m\u001b[0;34m,\u001b[0m \u001b[0mretain_graph\u001b[0m\u001b[0;34m,\u001b[0m \u001b[0mcreate_graph\u001b[0m\u001b[0;34m,\u001b[0m \u001b[0minputs\u001b[0m\u001b[0;34m=\u001b[0m\u001b[0minputs\u001b[0m\u001b[0;34m\u001b[0m\u001b[0;34m\u001b[0m\u001b[0m\n\u001b[1;32m    489\u001b[0m         )\n",
            "\u001b[0;32m/usr/local/lib/python3.10/dist-packages/torch/autograd/__init__.py\u001b[0m in \u001b[0;36mbackward\u001b[0;34m(tensors, grad_tensors, retain_graph, create_graph, grad_variables, inputs)\u001b[0m\n\u001b[1;32m    198\u001b[0m     \u001b[0;31m# some Python versions print out the first line of a multi-line function\u001b[0m\u001b[0;34m\u001b[0m\u001b[0;34m\u001b[0m\u001b[0m\n\u001b[1;32m    199\u001b[0m     \u001b[0;31m# calls in the traceback and some print out the last line\u001b[0m\u001b[0;34m\u001b[0m\u001b[0;34m\u001b[0m\u001b[0m\n\u001b[0;32m--> 200\u001b[0;31m     Variable._execution_engine.run_backward(  # Calls into the C++ engine to run the backward pass\n\u001b[0m\u001b[1;32m    201\u001b[0m         \u001b[0mtensors\u001b[0m\u001b[0;34m,\u001b[0m \u001b[0mgrad_tensors_\u001b[0m\u001b[0;34m,\u001b[0m \u001b[0mretain_graph\u001b[0m\u001b[0;34m,\u001b[0m \u001b[0mcreate_graph\u001b[0m\u001b[0;34m,\u001b[0m \u001b[0minputs\u001b[0m\u001b[0;34m,\u001b[0m\u001b[0;34m\u001b[0m\u001b[0;34m\u001b[0m\u001b[0m\n\u001b[1;32m    202\u001b[0m         allow_unreachable=True, accumulate_grad=True)  # Calls into the C++ engine to run the backward pass\n",
            "\u001b[0;31mKeyboardInterrupt\u001b[0m: "
          ]
        }
      ]
    }
  ]
}