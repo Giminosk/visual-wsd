{
 "cells": [
  {
   "cell_type": "code",
   "execution_count": null,
   "metadata": {},
   "outputs": [],
   "source": [
    "%load_ext nb_black\n",
    "%load_ext pycodestyle_magic \n",
    "%pycodestyle_on "
   ]
  },
  {
   "cell_type": "markdown",
   "metadata": {},
   "source": [
    "# Visual-WSD"
   ]
  },
  {
   "cell_type": "code",
   "execution_count": null,
   "metadata": {
    "id": "8Hiwp4YKiFCi"
   },
   "outputs": [],
   "source": [
    "# !gdown https://drive.google.com/u/0/uc?id=1byX4wpe1UjyCVyYrT04sW17NnycKAK7N&export=download\n",
    "# !unzip ./semeval-2023-task-1-V-WSD-train-v1.zip\n",
    "# !rm ./semeval-2023-task-1-V-WSD-train-v1.zip"
   ]
  },
  {
   "cell_type": "code",
   "execution_count": null,
   "metadata": {
    "id": "zhA2dxBZtSyy"
   },
   "outputs": [],
   "source": [
    "# !mkdir ./dataset\n",
    "# !mv ./semeval-2023-task-1-V-WSD-train-v1/train_v1 ./dataset/train\n",
    "# !mv ./dataset/train/train_images_v1 ./dataset/train/images\n",
    "# !mv ./dataset/train/train.data.v1.txt ./dataset/train/train_data.txt\n",
    "# !mv ./dataset/train/train.gold.v1.txt ./dataset/train/gold_data.txt"
   ]
  },
  {
   "cell_type": "code",
   "execution_count": null,
   "metadata": {
    "id": "M_JW3KF2qvgB"
   },
   "outputs": [],
   "source": [
    "# def parse_gold_to_csv(data_path, gold_path, result_path):\n",
    "#     with open(data_path, 'r') as f:\n",
    "#         data_lines = f.readlines()\n",
    "\n",
    "#     with open(gold_path, 'r') as g:\n",
    "#         gold_lines = g.readlines()\n",
    "\n",
    "#     image_paths = []\n",
    "#     targets = []\n",
    "\n",
    "#     for i, line in enumerate(data_lines):\n",
    "#         words = line.strip().split('\\t')\n",
    "#         target = words[1]\n",
    "#         image_path = words[2:]\n",
    "#         correct_image_path = gold_lines[i].strip()\n",
    "#         image_path = [path for path in image_path if path == correct_image_path]\n",
    "#         image_paths.extend(image_path)\n",
    "#         targets.extend([target] * len(image_path))\n",
    "\n",
    "#     df = pd.DataFrame({'image_path': image_paths, 'target': targets})\n",
    "\n",
    "#     df.to_csv(result_path, index=False)"
   ]
  },
  {
   "cell_type": "code",
   "execution_count": null,
   "metadata": {
    "id": "eKbAskffrfdC"
   },
   "outputs": [],
   "source": [
    "# parse_gold_to_csv(\n",
    "#     data_path = './dataset/train/train_data.txt',\n",
    "#     gold_path = './dataset/train/gold_data.txt',\n",
    "#     result_path = './dataset/train/combined_gold.csv'\n",
    "# )"
   ]
  },
  {
   "cell_type": "markdown",
   "metadata": {
    "id": "OMT-ORewVj-i"
   },
   "source": [
    "## Models"
   ]
  },
  {
   "cell_type": "markdown",
   "metadata": {
    "id": "qHfyS2YkgsQs"
   },
   "source": [
    "Visual-semantic embedding models: These models learn joint embeddings for images and text, allowing for similarity comparisons. Some notable models include:\n",
    "    VSE++: A model that learns a shared embedding space using a combination of CNNs and LSTMs.\n",
    "    SCAN: A model that utilizes a similarity-based contrastive loss to align images and text in a shared embedding space.\n",
    "\n",
    "Transformer-based models: Transformer architectures have shown excellent performance in various natural language processing and computer vision tasks. They can be adapted for image-text matching by employing cross-modal attention mechanisms. Examples include:\n",
    "    UNITER: A model that utilizes cross-modal transformer layers for joint image-text understanding.\n",
    "    LXMERT: A model that uses a combination of vision transformers and language transformers for cross-modal understanding.\n",
    "\n",
    "Dual-Stream models: These models have separate streams for image and text processing and incorporate cross-modal interactions at different levels. Notable examples include:\n",
    "    DAN: A model that employs separate deep networks for images and text, with cross-modal interactions at the final layer.\n",
    "    MFA: A model that incorporates multi-level feature alignment between images and text using a multi-modal factorized bilinear pooling approach.\n",
    "\n",
    "Cross-modal Retrieval models: These models focus specifically on retrieval tasks, aiming to find the most relevant images or texts given a query. Some popular models in this category include:\n",
    "    COSMOS: A model that utilizes deep bilinear modeling and triplet-based ranking losses for cross-modal retrieval.\n",
    "    M3ER: A model that combines visual attention and language attention mechanisms for cross-modal retrieval tasks."
   ]
  },
  {
   "cell_type": "code",
   "execution_count": null,
   "metadata": {
    "colab": {
     "base_uri": "https://localhost:8080/"
    },
    "id": "3bnf5DBvVitJ",
    "outputId": "3b5a044c-14fd-4b34-ee58-4c7a3f8144c8"
   },
   "outputs": [],
   "source": [
    "!wget https://t4.ftcdn.net/jpg/01/77/24/33/240_F_177243386_Luk2Jzj6QO7uWxOJuNTrX8TfPZFVqMj1.jpg\n",
    "!mv 240_F_177243386_Luk2Jzj6QO7uWxOJuNTrX8TfPZFVqMj1.jpg image.jpg"
   ]
  },
  {
   "cell_type": "markdown",
   "metadata": {
    "id": "UjfSfb9eYLpM"
   },
   "source": [
    "## CLIP"
   ]
  },
  {
   "cell_type": "code",
   "execution_count": null,
   "metadata": {
    "colab": {
     "base_uri": "https://localhost:8080/"
    },
    "id": "qwNWdlCyXF4F",
    "outputId": "23b9536a-c0d2-41fd-d826-7037109de7f7"
   },
   "outputs": [],
   "source": [
    "!pip install git+https://github.com/openai/CLIP.git"
   ]
  },
  {
   "cell_type": "code",
   "execution_count": null,
   "metadata": {
    "colab": {
     "base_uri": "https://localhost:8080/"
    },
    "id": "r8RqhMHHViwt",
    "outputId": "521f3f71-73f8-4ff7-a523-d6787eca5fef"
   },
   "outputs": [],
   "source": [
    "import torch\n",
    "import clip\n",
    "from PIL import Image\n",
    "\n",
    "device = \"cuda\" if torch.cuda.is_available() else \"cpu\"\n",
    "model, preprocess = clip.load(\"ViT-B/32\", device=device)\n",
    "\n",
    "\n",
    "def encode_image(image_path):\n",
    "    image = preprocess(Image.open(image_path)).unsqueeze(0).to(device)\n",
    "    with torch.no_grad():\n",
    "        image_features = model.encode_image(image)\n",
    "    return image_features\n",
    "\n",
    "\n",
    "def encode_text(text):\n",
    "    text = clip.tokenize([text]).to(device)\n",
    "    with torch.no_grad():\n",
    "        text_features = model.encode_text(text)\n",
    "    return text_features\n",
    "\n",
    "\n",
    "def calculate_similarity(image_features, text_features):\n",
    "    similarity = (100.0 * image_features @ text_features.T).squeeze()\n",
    "    return similarity.item()\n",
    "\n",
    "\n",
    "image_path = \"./image.jpg\"\n",
    "text1 = \"dog with ball\"\n",
    "text2 = \"children plating\"\n",
    "\n",
    "image_features = encode_image(image_path)\n",
    "text_features1 = encode_text(text1)\n",
    "text_features2 = encode_text(text2)\n",
    "\n",
    "print(\"Similarity1:\", calculate_similarity(image_features, text_features1))\n",
    "print(\"Similarity2:\", calculate_similarity(image_features, text_features2))"
   ]
  },
  {
   "cell_type": "markdown",
   "metadata": {
    "id": "bFiLKhudhy7M"
   },
   "source": [
    "## DAN"
   ]
  },
  {
   "cell_type": "code",
   "execution_count": null,
   "metadata": {
    "colab": {
     "base_uri": "https://localhost:8080/"
    },
    "id": "DF2Mnizmhwn9",
    "outputId": "e3dd6b35-094f-4c13-9116-c3116060a7e4"
   },
   "outputs": [],
   "source": [
    "import torch\n",
    "from torchvision.transforms import transforms\n",
    "from torchvision.models import resnet50\n",
    "from transformers import BertTokenizer, BertModel\n",
    "from torch import nn\n",
    "from PIL import Image\n",
    "\n",
    "\n",
    "class DAN(nn.Module):\n",
    "    def __init__(self, vision_model, language_model, embedding_size):\n",
    "        super(DAN, self).__init__()\n",
    "        self.vision_model = vision_model\n",
    "        self.language_model = language_model\n",
    "        self.fc_vision = nn.Linear(2048, embedding_size)\n",
    "        self.fc_language = nn.Linear(768, embedding_size)\n",
    "        self.relu = nn.ReLU()\n",
    "\n",
    "    def forward(self, image, text):\n",
    "        image_features = self.vision_model(image)\n",
    "        image_features = image_features.view(image_features.size(0), -1)\n",
    "        image_embeddings = self.relu(self.fc_vision(image_features))\n",
    "\n",
    "        text_embeddings = self.language_model(\n",
    "            **text\n",
    "        ).pooler_output  # Extract the pooled output\n",
    "\n",
    "        return image_embeddings, text_embeddings\n",
    "\n",
    "\n",
    "vision_model = resnet50(pretrained=True)\n",
    "vision_model = nn.Sequential(*list(vision_model.children())[:-1])\n",
    "vision_model = vision_model.eval()\n",
    "\n",
    "tokenizer = BertTokenizer.from_pretrained(\"bert-base-uncased\")\n",
    "language_model = BertModel.from_pretrained(\"bert-base-uncased\")\n",
    "language_model = language_model.eval()\n",
    "\n",
    "embedding_size = 768\n",
    "\n",
    "model = DAN(vision_model, language_model, embedding_size)\n",
    "\n",
    "image_path = \"./image.jpg\"\n",
    "text1 = \"dog with ball\"\n",
    "text2 = \"children playing\"\n",
    "\n",
    "image_transform = transforms.Compose(\n",
    "    [\n",
    "        transforms.Resize((224, 224)),\n",
    "        transforms.ToTensor(),\n",
    "        transforms.Normalize(mean=[0.485, 0.456, 0.406], std=[0.229, 0.224, 0.225]),\n",
    "    ]\n",
    ")\n",
    "\n",
    "image = Image.open(image_path)\n",
    "image = image_transform(image).unsqueeze(0)\n",
    "\n",
    "text_tokens1 = tokenizer.encode_plus(\n",
    "    text1, add_special_tokens=True, padding=\"longest\", return_tensors=\"pt\"\n",
    ")\n",
    "text_tokens2 = tokenizer.encode_plus(\n",
    "    text2, add_special_tokens=True, padding=\"longest\", return_tensors=\"pt\"\n",
    ")\n",
    "\n",
    "image_embeddings, text_embeddings1 = model(image, text_tokens1)\n",
    "image_embeddings, text_embeddings2 = model(image, text_tokens2)\n",
    "\n",
    "similarity1 = torch.cosine_similarity(image_embeddings, text_embeddings1, dim=1).item()\n",
    "similarity2 = torch.cosine_similarity(image_embeddings, text_embeddings2, dim=1).item()\n",
    "\n",
    "print(\"Similarity1:\", similarity1)\n",
    "print(\"Similarity2:\", similarity2)"
   ]
  },
  {
   "cell_type": "markdown",
   "metadata": {
    "id": "T-IdBknopv8j"
   },
   "source": [
    "## SCAN"
   ]
  },
  {
   "cell_type": "code",
   "execution_count": null,
   "metadata": {
    "colab": {
     "base_uri": "https://localhost:8080/"
    },
    "id": "sDRhUT_XmrXm",
    "outputId": "4bcad99e-e5ff-48d5-e796-6b81ec3faf93"
   },
   "outputs": [],
   "source": [
    "import torch\n",
    "import clip\n",
    "from PIL import Image\n",
    "\n",
    "device = \"cuda\" if torch.cuda.is_available() else \"cpu\"\n",
    "model, preprocess = clip.load(\"RN50x4\", device=device)\n",
    "\n",
    "\n",
    "def encode_image(image_path):\n",
    "    image = preprocess(Image.open(image_path)).unsqueeze(0).to(device)\n",
    "    with torch.no_grad():\n",
    "        image_features = model.encode_image(image)\n",
    "    return image_features\n",
    "\n",
    "\n",
    "def encode_text(text):\n",
    "    text = clip.tokenize(text).to(device)\n",
    "    with torch.no_grad():\n",
    "        text_features = model.encode_text(text)\n",
    "    return text_features\n",
    "\n",
    "\n",
    "def calculate_similarity(image_features, text_features):\n",
    "    similarity = (100.0 * image_features @ text_features.T).squeeze()\n",
    "    return similarity.item()\n",
    "\n",
    "\n",
    "image_path = \"./image.jpg\"\n",
    "text1 = \"dog with ball\"\n",
    "text2 = \"children playing\"\n",
    "\n",
    "image_features = encode_image(image_path)\n",
    "text_features1 = encode_text(text1)\n",
    "text_features2 = encode_text(text2)\n",
    "\n",
    "print(\"Similarity1:\", calculate_similarity(image_features, text_features1))\n",
    "print(\"Similarity2:\", calculate_similarity(image_features, text_features2))"
   ]
  },
  {
   "cell_type": "markdown",
   "metadata": {
    "id": "R2uGP4k9Zalx"
   },
   "source": [
    "## VSE++"
   ]
  },
  {
   "cell_type": "code",
   "execution_count": null,
   "metadata": {
    "colab": {
     "base_uri": "https://localhost:8080/",
     "height": 309
    },
    "id": "0v-W6yIdXCsd",
    "outputId": "3e1572f3-0f0d-4797-a162-10d898c8390d"
   },
   "outputs": [],
   "source": [
    "import torch\n",
    "from PIL import Image\n",
    "from torchvision.transforms import functional as F\n",
    "from transformers import BertModel, BertTokenizer\n",
    "from sentence_transformers import SentenceTransformer, models\n",
    "\n",
    "device = \"cuda\" if torch.cuda.is_available() else \"cpu\"\n",
    "\n",
    "text_model_name = \"bert-base-uncased\"\n",
    "text_model = BertModel.from_pretrained(text_model_name).to(device)\n",
    "tokenizer = BertTokenizer.from_pretrained(text_model_name)\n",
    "\n",
    "visual_model = models.VisionEncoder(\"visual_model_name\")\n",
    "visual_model.to(device)\n",
    "visual_model.eval()\n",
    "\n",
    "\n",
    "def encode_image(image_path):\n",
    "    image = Image.open(image_path).convert(\"RGB\")\n",
    "    image = F.resize(image, (224, 224))\n",
    "    image = F.to_tensor(image).unsqueeze(0).to(device)\n",
    "    with torch.no_grad():\n",
    "        image_features = visual_model.encode_image(image)\n",
    "    return image_features\n",
    "\n",
    "\n",
    "def encode_text(text):\n",
    "    inputs = tokenizer.encode_plus(\n",
    "        text, add_special_tokens=True, return_tensors=\"pt\"\n",
    "    ).to(device)\n",
    "    with torch.no_grad():\n",
    "        text_features = text_model(**inputs)[1]\n",
    "    return text_features\n",
    "\n",
    "\n",
    "def calculate_similarity(image_features, text_features):\n",
    "    similarity = torch.nn.functional.cosine_similarity(\n",
    "        image_features, text_features\n",
    "    ).item()\n",
    "    return similarity\n",
    "\n",
    "\n",
    "image_path = \"./image.jpg\"\n",
    "text1 = \"dog with ball\"\n",
    "text2 = \"children playing\"\n",
    "\n",
    "image_features = encode_image(image_path)\n",
    "text_features1 = encode_text(text1)\n",
    "text_features2 = encode_text(text2)\n",
    "\n",
    "print(\"Similarity1:\", calculate_similarity(image_features, text_features1))\n",
    "print(\"Similarity2:\", calculate_similarity(image_features, text_features2))"
   ]
  },
  {
   "cell_type": "markdown",
   "metadata": {
    "colab": {
     "base_uri": "https://localhost:8080/",
     "height": 158
    },
    "id": "g1rv1UwQfdXF",
    "outputId": "a98a04ef-e7d5-4a1d-c52d-e4ee3d7a969e"
   },
   "source": [
    "1) Training:\n",
    "    a. Collect pairs of images and their corresponding text descriptions.\n",
    "    b. Convert the text descriptions to embeddings.\n",
    "    c. Train the model to generate similar embeddings for similar images and text descriptions.\n",
    "    d. During training, pass both the images and embeddings to the model.\n",
    "\n",
    "2) Embedding Generation:\n",
    "    a. After training, utilize the trained model to generate embeddings for all images in the gallery.\n",
    "    b. Pass each image through the model and save the resulting embedding.\n",
    "    c. Exclude the text descriptions since only image embeddings are required in this step.\n",
    "    d. Any images outside dataset can be used\n",
    "\n",
    "3) Query Processing:\n",
    "    a. Convert a text query into an embedding using the same method used during training.\n",
    "    b. Compare the query embedding to all the image embeddings in the gallery.\n",
    "    c. Utilize a technique like k-nearest neighbors (k-NN) to find the most similar images.\n",
    "\n",
    "4) Image Retrieval:\n",
    "    a. Retrieve the images that have the most similar embeddings to the query embedding.\n",
    "    b. Return these images as the ones deemed most relevant to the query."
   ]
  },
  {
   "cell_type": "code",
   "execution_count": null,
   "metadata": {
    "colab": {
     "base_uri": "https://localhost:8080/",
     "height": 92
    },
    "id": "zFSHxIoNfdZm",
    "outputId": "112000e1-4dd1-465f-9b9c-0783ae8d7a6b"
   },
   "outputs": [],
   "source": [
    "!pip install -q kaggle\n",
    "from google.colab import files\n",
    "\n",
    "files.upload()  #  kaggle api token"
   ]
  },
  {
   "cell_type": "code",
   "execution_count": null,
   "metadata": {
    "id": "Wk5nvUU1f4-b"
   },
   "outputs": [],
   "source": [
    "!mkdir ~/.kaggle\n",
    "!cp kaggle.json ~/.kaggle/\n",
    "!chmod 600 ~/.kaggle/kaggle.json"
   ]
  },
  {
   "cell_type": "code",
   "execution_count": null,
   "metadata": {
    "colab": {
     "base_uri": "https://localhost:8080/"
    },
    "id": "Ib9cXS4vgMvd",
    "outputId": "c712d396-deda-4f09-c6c4-9e4429d79706"
   },
   "outputs": [],
   "source": [
    "!kaggle datasets download -d adityajn105/flickr8k"
   ]
  },
  {
   "cell_type": "code",
   "execution_count": null,
   "metadata": {
    "id": "ZGc54eFXgqYv"
   },
   "outputs": [],
   "source": [
    "%%capture\n",
    "!unzip ./flickr8k.zip\n",
    "!rm flickr8k.zip\n",
    "!mkdir ./data/\n",
    "!mv ./Images ./data/images\n",
    "!mv ./captions.txt ./data/captions.txt\n",
    "!mkdir ./data/embeddings\n",
    "!mkdir ./data/checkpoints/"
   ]
  },
  {
   "cell_type": "code",
   "execution_count": null,
   "metadata": {
    "id": "gHw37sxJfdcQ"
   },
   "outputs": [],
   "source": [
    "%%capture\n",
    "!pip install transformers\n",
    "!pip install rouge\n",
    "!pip install pycocoevalcap\n",
    "!pip install ftfy regex tqdm\n",
    "!pip install git+https://github.com/openai/CLIP.git"
   ]
  },
  {
   "cell_type": "code",
   "execution_count": null,
   "metadata": {
    "id": "TfJH0N7Kfdei"
   },
   "outputs": [],
   "source": [
    "import pandas as pd\n",
    "import numpy as np\n",
    "import albumentations as A\n",
    "from albumentations.pytorch import ToTensorV2\n",
    "import cv2\n",
    "from PIL import Image, ImageFile\n",
    "\n",
    "ImageFile.LOAD_TRUNCATED_IMAGES = True\n",
    "import os\n",
    "from tqdm import tqdm\n",
    "import random\n",
    "import clip\n",
    "\n",
    "import warnings\n",
    "\n",
    "warnings.filterwarnings(\"ignore\")\n",
    "\n",
    "import torch\n",
    "from torchvision import transforms\n",
    "from torch.utils.data import Dataset, DataLoader, random_split\n",
    "from torch.nn import functional as F\n",
    "from torch.nn.utils.rnn import pad_sequence\n",
    "from torch.optim.lr_scheduler import CosineAnnealingLR\n",
    "from torch.utils.tensorboard import SummaryWriter\n",
    "from nltk.translate.bleu_score import sentence_bleu\n",
    "from rouge import Rouge\n",
    "from pycocoevalcap.cider.cider import Cider\n",
    "from pycocoevalcap.meteor.meteor import Meteor\n",
    "from pycocoevalcap.spice.spice import Spice\n",
    "from transformers import GPT2Model, GPT2Tokenizer\n",
    "from transformers import CLIPProcessor, CLIPModel\n",
    "from transformers import AdamW\n",
    "\n",
    "DEVICE = torch.device(\"cuda\" if torch.cuda.is_available() else \"cpu\")"
   ]
  },
  {
   "cell_type": "code",
   "execution_count": null,
   "metadata": {
    "id": "rblWF8F-iCEi"
   },
   "outputs": [],
   "source": [
    "def txt_to_csv(txt_file, csv_file):\n",
    "    data = []\n",
    "    with open(txt_file, \"r\") as file:\n",
    "        lines = file.readlines()\n",
    "        for line in lines:\n",
    "            line = line.strip().split(\",\")\n",
    "            image = line[0]\n",
    "            caption = \", \".join(line[1:])\n",
    "            data.append({\"Image\": image, \"Caption\": caption})\n",
    "\n",
    "    df = pd.DataFrame(data)\n",
    "    df.to_csv(csv_file, index=False, header=False)\n",
    "\n",
    "\n",
    "txt_to_csv(txt_file=\"./data/captions.txt\", csv_file=\"./data/captions.csv\")"
   ]
  },
  {
   "cell_type": "markdown",
   "metadata": {},
   "source": [
    "Precalculate gpt2 embedding"
   ]
  },
  {
   "cell_type": "code",
   "execution_count": null,
   "metadata": {
    "colab": {
     "base_uri": "https://localhost:8080/",
     "height": 35
    },
    "id": "Xyeq2-g9qqJq",
    "outputId": "bd25e724-d8f4-4888-9b67-0e826d8053cb"
   },
   "outputs": [],
   "source": [
    "# def generate_and_save_embeddings(csv_file_path):\n",
    "#     dataframe = pd.read_csv(csv_file_path)\n",
    "\n",
    "#     tokenizer = GPT2Tokenizer.from_pretrained('gpt2')\n",
    "#     tokenizer.pad_token = tokenizer.eos_token\n",
    "#     model = GPT2Model.from_pretrained('gpt2').to(DEVICE)\n",
    "\n",
    "#     for index, row in tqdm(dataframe.iterrows()):\n",
    "#         target = row['caption']\n",
    "#         image_name = row['image']\n",
    "\n",
    "#         inputs = tokenizer(target, return_tensors='pt', padding='max_length', truncation=True, max_length=512).to(DEVICE)\n",
    "#         with torch.no_grad():\n",
    "#             outputs = model(**inputs)\n",
    "#         embeddings = outputs.last_hidden_state\n",
    "#         embeddings = torch.nn.functional.pad(embeddings, pad=(0, 0, 0, 512 - embeddings.size(1)))\n",
    "#         embeddings = embeddings.to('cpu')\n",
    "\n",
    "#         torch.save(embeddings, f'./data/embeddings/{image_name}_embedding.pt')\n",
    "\n",
    "\n",
    "# generate_and_save_embeddings('./data/captions.csv')"
   ]
  },
  {
   "cell_type": "markdown",
   "metadata": {},
   "source": [
    "Precalculate clip embeddings  \n",
    "! For training clip model no need for embeddings, input_ids are used, no need to precalculate"
   ]
  },
  {
   "cell_type": "code",
   "execution_count": null,
   "metadata": {
    "colab": {
     "base_uri": "https://localhost:8080/",
     "height": 53
    },
    "id": "Ddz8XUiU-2-L",
    "outputId": "66d746eb-b6ac-4977-c85f-6ed75b21a459"
   },
   "outputs": [],
   "source": [
    "# def generate_and_save_clip_embeddings(csv_file, embedding_dir):\n",
    "\n",
    "#     model = CLIPModel.from_pretrained(\"openai/clip-vit-base-patch32\")\n",
    "#     processor = CLIPProcessor.from_pretrained(\"openai/clip-vit-base-patch32\")\n",
    "\n",
    "#     device = torch.device(\"cuda\" if torch.cuda.is_available() else \"cpu\")\n",
    "#     model = model.to(DEVICE)\n",
    "\n",
    "#     dataframe = pd.read_csv(csv_file)\n",
    "\n",
    "#     for idx, row in tqdm(dataframe.iterrows()):\n",
    "#         target = row['caption']\n",
    "\n",
    "#         inputs = processor(text=target, return_tensors=\"pt\", padding=True, truncation=True)\n",
    "#         inputs = {name: tensor.to(DEVICE) for name, tensor in inputs.items()}\n",
    "#         with torch.no_grad():\n",
    "#             embeddings = model.get_text_features(**inputs)\n",
    "\n",
    "#         image_name = row['image'].split('.')[0]\n",
    "#         torch.save(embeddings.cpu(), os.path.join(embedding_dir, f\"{image_name}_embedding.pt\"))\n",
    "\n",
    "\n",
    "# generate_and_save_clip_embeddings('./data/captions.csv', './data/embeddings')"
   ]
  },
  {
   "cell_type": "code",
   "execution_count": null,
   "metadata": {
    "id": "dobQR29r7DoQ"
   },
   "outputs": [],
   "source": [
    "class MyDataset(Dataset):\n",
    "    def __init__(self, csv_file, image_dir, transform=None):\n",
    "        self.dataframe = pd.read_csv(csv_file)\n",
    "        self.image_dir = image_dir\n",
    "        self.transform = transform\n",
    "\n",
    "        _, self.preprocess = clip.load(\"ViT-B/32\", device=DEVICE, jit=False)\n",
    "\n",
    "    def __len__(self):\n",
    "        return len(self.dataframe)\n",
    "\n",
    "    def __getitem__(self, idx):\n",
    "        if torch.is_tensor(idx):\n",
    "            idx = idx.tolist()\n",
    "\n",
    "        img_name = os.path.join(self.image_dir, self.dataframe.iloc[idx, 0])\n",
    "        image = Image.open(img_name).convert(\"RGB\")\n",
    "        image = np.array(image)\n",
    "\n",
    "        if self.transform:\n",
    "            transformed = self.transform(image=image)\n",
    "            image = transformed[\"image\"]\n",
    "\n",
    "        image = image.permute(1, 2, 0).numpy()\n",
    "        image = image.astype(np.uint8)\n",
    "        image = Image.fromarray(image)\n",
    "        image = self.preprocess(image).float()\n",
    "\n",
    "        target = self.dataframe.iloc[idx, 1]\n",
    "        input_ids = clip.tokenize(target)\n",
    "\n",
    "        return image, input_ids\n",
    "\n",
    "    # now not used\n",
    "    @staticmethod\n",
    "    def collate_fn(batch):\n",
    "        images, input_ids = zip(*batch)\n",
    "        images = torch.stack(images)\n",
    "        input_ids = pad_sequence(input_ids, batch_first=True, padding_value=0)\n",
    "        return images, input_ids"
   ]
  },
  {
   "cell_type": "code",
   "execution_count": null,
   "metadata": {
    "id": "Dg_Cnk2uAKue"
   },
   "outputs": [],
   "source": [
    "def get_mean_std(loader):\n",
    "    channels_sum, channels_sqrd_sum, num_batches = 0, 0, 0\n",
    "\n",
    "    for data, _ in tqdm(loader):\n",
    "        if data is None:\n",
    "            continue\n",
    "        try:\n",
    "            channels_sum += torch.mean(data, dim=[0, 2, 3])\n",
    "            channels_sqrd_sum += torch.mean(data**2, dim=[0, 2, 3])\n",
    "            num_batches += 1\n",
    "        except TypeError:\n",
    "            continue\n",
    "\n",
    "    mean = channels_sum / num_batches\n",
    "    std = (channels_sqrd_sum / num_batches - mean**2) ** 0.5\n",
    "\n",
    "    return mean, std\n",
    "\n",
    "\n",
    "# tmp_transform = A.Compose([\n",
    "#     A.Resize(224, 224),\n",
    "#     ToTensorV2()\n",
    "# ])\n",
    "\n",
    "# dataset = MyDataset(csv_file='./data/captions.csv', image_dir='./data/images/', embeddings_dir='./data/embeddings/', transform=tmp_transform)\n",
    "# dataloader = DataLoader(dataset, batch_size=64, shuffle=True, num_workers=0)\n",
    "\n",
    "# mean, std = get_mean_std(dataloader)\n",
    "# print(mean)\n",
    "# print(std)\n",
    "\n",
    "# [116.6669, 113.6163, 102.8635]   for flickr8k\n",
    "# [70.0214, 68.1754, 71.8770]"
   ]
  },
  {
   "cell_type": "code",
   "execution_count": null,
   "metadata": {
    "id": "F_lSwmG9x36g"
   },
   "outputs": [],
   "source": [
    "MEAN = [116.6669, 113.6163, 102.8635]\n",
    "STD = [70.0214, 68.1754, 71.8770]\n",
    "\n",
    "\n",
    "transform = A.Compose(\n",
    "    [\n",
    "        A.Resize(224, 224),\n",
    "        A.HorizontalFlip(p=0.5),\n",
    "        A.RandomRotate90(p=0.5),\n",
    "        A.Transpose(p=0.5),\n",
    "        A.ShiftScaleRotate(\n",
    "            shift_limit=0.0625,\n",
    "            scale_limit=0.2,\n",
    "            rotate_limit=15,\n",
    "            p=0.9,\n",
    "            border_mode=cv2.BORDER_REFLECT,\n",
    "        ),\n",
    "        A.OneOf([A.IAAAdditiveGaussianNoise(), A.GaussNoise()], p=0.2),\n",
    "        A.OneOf(\n",
    "            [\n",
    "                A.MotionBlur(p=0.2),\n",
    "                A.MedianBlur(blur_limit=3, p=0.1),\n",
    "                A.Blur(blur_limit=3, p=0.1),\n",
    "            ],\n",
    "            p=0.2,\n",
    "        ),\n",
    "        A.OneOf(\n",
    "            [\n",
    "                A.CLAHE(clip_limit=2),\n",
    "                A.IAASharpen(),\n",
    "                A.IAAEmboss(),\n",
    "                A.RandomBrightnessContrast(),\n",
    "            ],\n",
    "            p=0.3,\n",
    "        ),\n",
    "        A.HueSaturationValue(p=0.3),\n",
    "        A.Normalize(mean=MEAN, std=STD),\n",
    "        ToTensorV2(),\n",
    "    ]\n",
    ")"
   ]
  },
  {
   "cell_type": "code",
   "execution_count": null,
   "metadata": {
    "id": "ntMid4lsUmBy"
   },
   "outputs": [],
   "source": [
    "def create_data_loaders(dataset, batch_size=64, val_split=0.2):\n",
    "    train_size = int((1 - val_split) * len(dataset))\n",
    "    val_size = len(dataset) - train_size\n",
    "\n",
    "    train_dataset, val_dataset = random_split(dataset, [train_size, val_size])\n",
    "\n",
    "    train_loader = DataLoader(\n",
    "        train_dataset,\n",
    "        batch_size=batch_size,\n",
    "        shuffle=True,\n",
    "        num_workers=0,\n",
    "        # collate_fn = MyDataset.collate_fn\n",
    "    )\n",
    "\n",
    "    val_loader = DataLoader(\n",
    "        val_dataset,\n",
    "        batch_size=batch_size,\n",
    "        shuffle=False,\n",
    "        num_workers=0,\n",
    "        # collate_fn = MyDataset.collate_fn\n",
    "    )\n",
    "\n",
    "    return train_loader, val_loader"
   ]
  },
  {
   "cell_type": "code",
   "execution_count": null,
   "metadata": {
    "id": "eYf2fl7T3DGT"
   },
   "outputs": [],
   "source": [
    "def seed_everything(seed=1):\n",
    "    random.seed(seed)\n",
    "    os.environ[\"PYTHONHASHSEED\"] = str(seed)\n",
    "    np.random.seed(seed)\n",
    "    torch.manual_seed(seed)\n",
    "    random.seed(seed)\n",
    "    torch.cuda.manual_seed(seed)\n",
    "    torch.backends.cudnn.deterministic = True\n",
    "    torch.backends.cudnn.benchmark = True\n",
    "\n",
    "\n",
    "seed_everything(seed=1)"
   ]
  },
  {
   "cell_type": "code",
   "execution_count": null,
   "metadata": {
    "id": "nuphgOAV55G4"
   },
   "outputs": [],
   "source": [
    "def save_checkpoint(model, optimizer, epoch, loss, filepath):\n",
    "    checkpoint = {\n",
    "        \"model_state_dict\": model.state_dict(),\n",
    "        \"optimizer_state_dict\": optimizer.state_dict(),\n",
    "        \"epoch\": epoch,\n",
    "        \"loss\": loss,\n",
    "    }\n",
    "    torch.save(checkpoint, filepath)\n",
    "\n",
    "\n",
    "def load_checkpoint(model, optimizer, filepath):\n",
    "    checkpoint = torch.load(filepath)\n",
    "    model.load_state_dict(checkpoint[\"model_state_dict\"])\n",
    "    optimizer.load_state_dict(checkpoint[\"optimizer_state_dict\"])\n",
    "    epoch = checkpoint[\"epoch\"]\n",
    "    loss = checkpoint[\"loss\"]\n",
    "    return model, optimizer, epoch, loss"
   ]
  },
  {
   "cell_type": "markdown",
   "metadata": {},
   "source": [
    "We cannot calculate metrics while training, because model produces embeddings in shared space, not final predicions, i.e we dont have ground truth neither predictions"
   ]
  },
  {
   "cell_type": "code",
   "execution_count": null,
   "metadata": {
    "id": "HSqyaOe53avG"
   },
   "outputs": [],
   "source": [
    "# def calculate_metrics(predictions, ground_truth):\n",
    "#     predictions = predictions.tolist()\n",
    "#     ground_truth = ground_truth.tolist()\n",
    "\n",
    "#     rouge = Rouge()\n",
    "#     cider = Cider()\n",
    "#     meteor = Meteor()\n",
    "#     spice = Spice()\n",
    "\n",
    "#     bleu_scores = [sentence_bleu([truth], pred) for pred, truth in zip(predictions, ground_truth)]\n",
    "#     bleu = sum(bleu_scores) / len(bleu_scores)\n",
    "\n",
    "#     rouge_scores = [rouge.get_scores(pred, truth)[0]['rouge-l']['f'] for pred, truth in zip(predictions, ground_truth)]\n",
    "\n",
    "#     rouge = sum(rouge_scores) / len(rouge_scores)\n",
    "\n",
    "#     cider_score, _ = cider.compute_score({i: [truth] for i, truth in enumerate(ground_truth)}, {i: [pred] for i, pred in enumerate(predictions)})\n",
    "\n",
    "#     meteor_score, _ = meteor.compute_score({i: [truth] for i, truth in enumerate(ground_truth)}, {i: [pred] for i, pred in enumerate(predictions)})\n",
    "\n",
    "#     spice_score, _ = spice.compute_score({i: [truth] for i, truth in enumerate(ground_truth)}, {i: [pred] for i, pred in enumerate(predictions)})\n",
    "\n",
    "#     return torch.tensor([bleu, rouge, cider_score, meteor_score, spice_score])"
   ]
  },
  {
   "cell_type": "code",
   "execution_count": null,
   "metadata": {
    "id": "uUAHDxJH_uP_"
   },
   "outputs": [],
   "source": [
    "def train_step(model, images, input_ids, optimizer):\n",
    "    optimizer.zero_grad()\n",
    "    image_features, text_features = model(images, input_ids)\n",
    "\n",
    "    logits = image_features @ text_features.t()\n",
    "\n",
    "    labels = torch.arange(len(images)).to(DEVICE)\n",
    "\n",
    "    loss = F.cross_entropy(logits, labels) + F.cross_entropy(logits.t(), labels)\n",
    "\n",
    "    loss.backward()\n",
    "    optimizer.step()\n",
    "\n",
    "    return loss.item()\n",
    "\n",
    "\n",
    "def val_step(model, images, input_ids):\n",
    "    model.eval()\n",
    "\n",
    "    with torch.no_grad():\n",
    "        image_features, text_features = model(images, input_ids)\n",
    "\n",
    "        logits = image_features @ text_features.t()\n",
    "        print(image_features.shape, text_features.shape, logits.shape)\n",
    "\n",
    "        labels = torch.arange(len(images)).to(DEVICE)\n",
    "        loss = F.cross_entropy(logits, labels) + F.cross_entropy(logits.t(), labels)\n",
    "\n",
    "    model.train()\n",
    "    return loss.item(), logits\n",
    "\n",
    "\n",
    "def train(model, train_loader, val_loader, num_epochs, writer):\n",
    "    model = model.to(DEVICE)\n",
    "    model.train()\n",
    "    optimizer = AdamW(model.parameters())\n",
    "    scheduler = CosineAnnealingLR(optimizer, len(train_loader) * num_epochs)\n",
    "\n",
    "    for epoch in range(num_epochs):\n",
    "        train_loss = 0.0\n",
    "        val_loss = 0.0\n",
    "\n",
    "        for images, input_ids in tqdm(train_loader, leave=False):\n",
    "            images = images.to(DEVICE)\n",
    "            input_ids = input_ids.squeeze(1).to(DEVICE)\n",
    "            loss = train_step(model, images, input_ids, optimizer)\n",
    "            train_loss += loss\n",
    "\n",
    "        writer.add_scalar(\"Loss/train\", train_loss, epoch)\n",
    "\n",
    "        if scheduler:\n",
    "            scheduler.step()\n",
    "\n",
    "        # metrics = torch.tensor([0, 0, 0, 0, 0])\n",
    "        for images, input_ids in tqdm(val_loader, leave=False):\n",
    "            images = images.to(DEVICE)\n",
    "            input_ids = input_ids.squeeze(1).to(DEVICE)\n",
    "            loss, predictions = val_step(model, images, input_ids)\n",
    "            val_loss += loss\n",
    "            # metrics += calculate_metrics(predictions, input_ids)\n",
    "\n",
    "        # metrics /= len(val_loader)\n",
    "        # metrics = dict(zip(['Bleu', 'Rouge', 'Cider', 'Meteor', 'Spice'], metrics))\n",
    "        writer.add_scalar(\"Loss/train\", val_loss, epoch)\n",
    "\n",
    "        for metric, value in metrics.items():\n",
    "            writer.add_scalar(f\"Metrics/{metric}\", value, epoch)\n",
    "\n",
    "        print(f\"==> Epoch {epoch+1}/{num_epochs}\")\n",
    "        print(f\"\\tTrain Loss: {train_loss / len(train_loader)}\")\n",
    "        print(f\"\\tVal Loss: {val_loss / len(val_loader)}\")\n",
    "        # print(f\"\\tMetrics: {metrics}\")\n",
    "\n",
    "        if epoch % 5 == 0:\n",
    "            save_checkpoint(\n",
    "                model,\n",
    "                optimizer,\n",
    "                epoch,\n",
    "                None,\n",
    "                f\"./data/checkpoints/model_epoch_{epoch}.pt\",\n",
    "            )"
   ]
  },
  {
   "cell_type": "code",
   "execution_count": null,
   "metadata": {
    "colab": {
     "base_uri": "https://localhost:8080/"
    },
    "id": "mPNt2VtNFu7m",
    "outputId": "8fd43bbb-2ea2-43e8-91ed-00a5dcabc49d"
   },
   "outputs": [],
   "source": [
    "dataset = MyDataset(\n",
    "    csv_file=\"./data/captions.csv\", image_dir=\"./data/images/\", transform=transform\n",
    ")\n",
    "\n",
    "train_loader, val_loader = create_data_loaders(dataset)\n",
    "\n",
    "model, _ = clip.load(\"ViT-B/32\", device=DEVICE, jit=False)\n",
    "\n",
    "writer = SummaryWriter()"
   ]
  },
  {
   "cell_type": "code",
   "execution_count": null,
   "metadata": {
    "colab": {
     "base_uri": "https://localhost:8080/",
     "height": 330
    },
    "id": "7kO0aU6pH8Rh",
    "outputId": "25f4c054-5410-4422-b7d6-1fbf8958b2c3"
   },
   "outputs": [],
   "source": [
    "train(model, train_loader, val_loader, 10, writer)"
   ]
  }
 ],
 "metadata": {
  "accelerator": "GPU",
  "colab": {
   "gpuType": "T4",
   "provenance": []
  },
  "kernelspec": {
   "display_name": "Python 3 (ipykernel)",
   "language": "python",
   "name": "python3"
  },
  "language_info": {
   "codemirror_mode": {
    "name": "ipython",
    "version": 3
   },
   "file_extension": ".py",
   "mimetype": "text/x-python",
   "name": "python",
   "nbconvert_exporter": "python",
   "pygments_lexer": "ipython3",
   "version": "3.10.9"
  }
 },
 "nbformat": 4,
 "nbformat_minor": 4
}
